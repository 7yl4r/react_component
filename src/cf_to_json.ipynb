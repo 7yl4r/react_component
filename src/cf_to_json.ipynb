{
 "cells": [
  {
   "cell_type": "code",
   "execution_count": null,
   "metadata": {},
   "outputs": [],
   "source": [
    "import json\n",
    "import os\n",
    "import sys\n",
    "import requests\n",
    "import xml.etree.ElementTree as ET"
   ]
  },
  {
   "cell_type": "code",
   "execution_count": null,
   "metadata": {},
   "outputs": [],
   "source": [
    "def fetch_cf_standard_name_table(version, location=None):\n",
    "    \"\"\"\n",
    "    Downloads the specified CF standard name table version and saves it to file\n",
    "\n",
    "    :param str version: CF standard name table version number (i.e 34)\n",
    "    :param str location: Path/filename to write downloaded xml file to\n",
    "    \"\"\"\n",
    "\n",
    "    if (\n",
    "        location is None\n",
    "    ):  # This case occurs when updating the packaged version from command line\n",
    "        location = \"cf_table/cf_table.xml\"\n",
    "\n",
    "    if version == \"latest\":\n",
    "        url = \"http://cfconventions.org/Data/cf-standard-names/current/src/cf-standard-name-table.xml\"\n",
    "    else:\n",
    "        url = f\"http://cfconventions.org/Data/cf-standard-names/{version}/src/cf-standard-name-table.xml\"\n",
    "\n",
    "    r = requests.get(url, allow_redirects=True)\n",
    "    r.raise_for_status()\n",
    "\n",
    "    print(\n",
    "        f\"Downloading cf-standard-names table version {version} from: {url}\",\n",
    "        file=sys.stderr,\n",
    "    )\n",
    "    \n",
    "    try:\n",
    "        os.makedirs(os.path.dirname(location), exist_ok=True)  # Create directories if needed\n",
    "        with open(location, \"wb\") as f:\n",
    "            f.write(r.content)\n",
    "    except OSError as e:\n",
    "        print(f\"Error creating file or directory: {e}\")\n",
    "    \n",
    "    return location"
   ]
  },
  {
   "cell_type": "code",
   "execution_count": null,
   "metadata": {},
   "outputs": [],
   "source": [
    "def xml_to_json(input_xml):\n",
    "  \"\"\"\n",
    "  Parses an XML document and extracts specific data into a JSON format.\n",
    "\n",
    "  Args:\n",
    "      input_xml: Path to the XML file\n",
    "\n",
    "  Returns:\n",
    "      dict: JSON dictionary containing the extracted data.\n",
    "  \"\"\"\n",
    "  tree = ET.parse(input_xml)\n",
    "  root = tree.getroot()\n",
    "\n",
    "  data = []\n",
    "  for entry in root.findall('.//entry'):\n",
    "    standard_name = entry.attrib[\"id\"]\n",
    "    canonical_units = entry.find('canonical_units').text\n",
    "    description = entry.find('description').text\n",
    "    # Omitting description as per request\n",
    "\n",
    "    var_data = {\n",
    "      \"name_vocabulary\": \"CF Standard Name\",\n",
    "      \"standard_name\": standard_name,\n",
    "      \"alerts\": {\n",
    "        \"threshold_min\": None,\n",
    "        \"threshold_max\": None\n",
    "      },\n",
    "      \"display_name\": {\n",
    "        \"en\": None\n",
    "      },\n",
    "      \"display_description\": {\n",
    "        \"en\": description\n",
    "      },\n",
    "      \"canonical_unit_id\": canonical_units,\n",
    "      \"preferred_metric_unit_id\": None,\n",
    "      \"preferred_imperial_unit_id\": None,\n",
    "      \"units\": []\n",
    "    }\n",
    "\n",
    "    data.append(var_data)\n",
    "\n",
    "  return data"
   ]
  },
  {
   "cell_type": "code",
   "execution_count": null,
   "metadata": {},
   "outputs": [],
   "source": [
    "xml_out = fetch_cf_standard_name_table(version=\"latest\")"
   ]
  },
  {
   "cell_type": "code",
   "execution_count": null,
   "metadata": {},
   "outputs": [],
   "source": [
    "parsed_data = xml_to_json(input_xml=xml_out)"
   ]
  },
  {
   "cell_type": "code",
   "execution_count": null,
   "metadata": {},
   "outputs": [],
   "source": [
    "json_out = \"vocabulary_json/cf_standard.json\"\n",
    "\n",
    "with open(json_out, \"w\") as outfile:\n",
    "          json.dump(parsed_data, outfile, indent=4)"
   ]
  }
 ],
 "metadata": {
  "kernelspec": {
   "display_name": "Python 3",
   "language": "python",
   "name": "python3"
  },
  "language_info": {
   "codemirror_mode": {
    "name": "ipython",
    "version": 3
   },
   "file_extension": ".py",
   "mimetype": "text/x-python",
   "name": "python",
   "nbconvert_exporter": "python",
   "pygments_lexer": "ipython3",
   "version": "3.12.3"
  }
 },
 "nbformat": 4,
 "nbformat_minor": 2
}
